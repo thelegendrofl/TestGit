{
 "cells": [
  {
   "cell_type": "code",
   "execution_count": 24,
   "outputs": [
    {
     "name": "stdout",
     "output_type": "stream",
     "text": [
      "Kaion\n"
     ]
    },
    {
     "data": {
      "text/plain": "3"
     },
     "execution_count": 24,
     "metadata": {},
     "output_type": "execute_result"
    }
   ],
   "source": [
    "print('Kaion')\n",
    "\n",
    "2+1"
   ],
   "metadata": {
    "collapsed": false,
    "pycharm": {
     "name": "#%%\n"
    }
   }
  },
  {
   "cell_type": "code",
   "execution_count": 9,
   "outputs": [
    {
     "name": "stdout",
     "output_type": "stream",
     "text": [
      "kaion henrique\n",
      "My name is: Kaion, i have 31 years old and my job is: Software Engineer\n",
      "Meu nome eh: kaion e minha idade eh: 31\n"
     ]
    }
   ],
   "source": [
    "print('kaion henrique')\n",
    "\n",
    "var = 2 + 1\n",
    "\n",
    "\n",
    "a = 5\n",
    "a + a\n",
    "\n",
    "a\n",
    "\n",
    "age = 31\n",
    "name = 'Kaion'\n",
    "job = 'Software Engineer'\n",
    "\n",
    "print(f'My name is: {name}, i have {age} years old and my job is: {job}')\n",
    "\n",
    "print('Meu nome eh: {a} e minha idade eh: {i}'.format(a='kaion', i=31))\n"
   ],
   "metadata": {
    "collapsed": false,
    "pycharm": {
     "name": "#%%\n"
    }
   }
  },
  {
   "cell_type": "code",
   "execution_count": 25,
   "outputs": [],
   "source": [
    "new_list = ['Kaion', 31, 176.5]"
   ],
   "metadata": {
    "collapsed": false,
    "pycharm": {
     "name": "#%%\n"
    }
   }
  },
  {
   "cell_type": "code",
   "execution_count": 25,
   "outputs": [],
   "source": [],
   "metadata": {
    "collapsed": false,
    "pycharm": {
     "name": "#%%\n"
    }
   }
  }
 ],
 "metadata": {
  "kernelspec": {
   "display_name": "Python 3",
   "language": "python",
   "name": "python3"
  },
  "language_info": {
   "codemirror_mode": {
    "name": "ipython",
    "version": 2
   },
   "file_extension": ".py",
   "mimetype": "text/x-python",
   "name": "python",
   "nbconvert_exporter": "python",
   "pygments_lexer": "ipython2",
   "version": "2.7.6"
  }
 },
 "nbformat": 4,
 "nbformat_minor": 0
}